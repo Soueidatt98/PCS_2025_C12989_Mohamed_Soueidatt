{
 "cells": [
  {
   "cell_type": "markdown",
   "id": "2aa7c625-9233-422b-83c4-ab71443bbc40",
   "metadata": {},
   "source": [
    "# Mohamed Soueidatt - C12989\n",
    "\n",
    "#### Solutions des exercices du chapitre 2"
   ]
  },
  {
   "cell_type": "markdown",
   "id": "9f8abb7c-c5ae-4d19-9b3f-1a6a85200830",
   "metadata": {},
   "source": [
    "### Ex. 1 – Zero of a function"
   ]
  },
  {
   "cell_type": "code",
   "execution_count": 9,
   "id": "a12e78ba-da7e-4c21-84bc-4c1408f0face",
   "metadata": {},
   "outputs": [
    {
     "data": {
      "text/plain": [
       "False"
      ]
     },
     "execution_count": 9,
     "metadata": {},
     "output_type": "execute_result"
    }
   ],
   "source": [
    "import math\n",
    "def f(x): return x**2 - 0.25*x + 5\n",
    "abs(f(2.3)) < 1e-12"
   ]
  },
  {
   "cell_type": "markdown",
   "id": "3268e7af-5165-4bd0-8947-994420f54595",
   "metadata": {},
   "source": [
    "### Ex. 2 – de Moivre’s formula"
   ]
  },
  {
   "cell_type": "code",
   "execution_count": 4,
   "id": "634684a6-bd7e-4bdc-9d71-ec15299f87cb",
   "metadata": {},
   "outputs": [
    {
     "data": {
      "text/plain": [
       "True"
      ]
     },
     "execution_count": 4,
     "metadata": {},
     "output_type": "execute_result"
    }
   ],
   "source": [
    "import cmath, math\n",
    "n, x = 5, 0.7\n",
    "left  = (math.cos(x) + 1j*math.sin(x))**n\n",
    "right = math.cos(n*x) + 1j*math.sin(n*x)\n",
    "abs(left - right) < 1e-12\n"
   ]
  },
  {
   "cell_type": "markdown",
   "id": "f7620c73-0700-409c-8ad7-ab9c5a8fc664",
   "metadata": {},
   "source": [
    "### Ex. 3 – Euler’s formula "
   ]
  },
  {
   "cell_type": "code",
   "execution_count": 5,
   "id": "1af08a27-6f34-45a7-b684-2e374cc8d367",
   "metadata": {},
   "outputs": [
    {
     "data": {
      "text/plain": [
       "True"
      ]
     },
     "execution_count": 5,
     "metadata": {},
     "output_type": "execute_result"
    }
   ],
   "source": [
    "x = 1.3\n",
    "abs(cmath.exp(1j*x) - (math.cos(x) + 1j*math.sin(x))) < 1e-12\n"
   ]
  },
  {
   "cell_type": "markdown",
   "id": "420fb2c4-1dd1-493e-8946-3dbd1f70dee4",
   "metadata": {},
   "source": [
    "### Ex. 4 – Convergence test quirks"
   ]
  },
  {
   "cell_type": "code",
   "execution_count": 6,
   "id": "4fec0168-a592-4a53-9f5a-014d1c9c7b7f",
   "metadata": {},
   "outputs": [
    {
     "name": "stdout",
     "output_type": "stream",
     "text": [
      "Original:\n",
      "Convergence\n",
      "Modified condition:\n",
      "No convergence\n",
      "Integer initial:\n",
      "No convergence\n"
     ]
    }
   ],
   "source": [
    "def test(loop_cond, use_float):\n",
    "    u = 1.0 if use_float else 1\n",
    "    uold = 10.\n",
    "    for _ in range(2000):\n",
    "        if loop_cond(u, uold):\n",
    "            print('Convergence')\n",
    "            break\n",
    "        uold, u = u, 2*u\n",
    "    else:\n",
    "        print('No convergence')\n",
    "\n",
    "print(\"Original:\")\n",
    "test(lambda u, uold: not abs(u-uold) > 1e-8, True)\n",
    "print(\"Modified condition:\")\n",
    "test(lambda u, uold: abs(u-uold) < 1e-8, True)\n",
    "print(\"Integer initial:\")\n",
    "test(lambda u, uold: not abs(u-uold) > 1e-8, False)\n"
   ]
  },
  {
   "cell_type": "markdown",
   "id": "455dd533-db52-4b78-854e-874d2f400934",
   "metadata": {},
   "source": [
    "**Q 4**  \n",
    "`u` keeps doubling until it overflows to `inf`.  \n",
    "At that point `u - uold` is `inf - inf`, which is `nan`.  \n",
    "Any comparison with `nan` is `False`, so the test  \n",
    "`not abs(u-uold) > 1e-8` flips to `True` and the loop breaks, even\n",
    "though nothing actually converged."
   ]
  },
  {
   "cell_type": "markdown",
   "id": "36da4dba-5a55-456f-bae0-4b22336393c9",
   "metadata": {},
   "source": [
    "### Ex. 5 – Logical implication"
   ]
  },
  {
   "cell_type": "code",
   "execution_count": 7,
   "id": "ab7af23a-e7d7-4291-9572-148d47374eb8",
   "metadata": {},
   "outputs": [
    {
     "data": {
      "text/plain": [
       "[[False, False, True],\n",
       " [False, True, True],\n",
       " [True, False, False],\n",
       " [True, True, True]]"
      ]
     },
     "execution_count": 7,
     "metadata": {},
     "output_type": "execute_result"
    }
   ],
   "source": [
    "def implication(A: bool, B: bool) -> bool:\n",
    "    return (not A) or (A and B)\n",
    "\n",
    "# quick test\n",
    "[[A, B, implication(A, B)] for A in (False, True) for B in (False, True)]\n"
   ]
  },
  {
   "cell_type": "markdown",
   "id": "72d427b9-9953-494b-af3d-afe5134ac8c1",
   "metadata": {},
   "source": [
    "### Ex. 6 – Half & full adders "
   ]
  },
  {
   "cell_type": "code",
   "execution_count": 8,
   "id": "b8138e61-9b9a-4fd0-97a5-133463836c63",
   "metadata": {},
   "outputs": [
    {
     "name": "stdout",
     "output_type": "stream",
     "text": [
      "Half-adder (p,q)->(sum,carry)\n",
      "0 0 (0, 0)\n",
      "0 1 (1, 0)\n",
      "1 0 (1, 0)\n",
      "1 1 (0, 1)\n",
      "\n",
      "Full-adder (p,q,c_in)->(sum,carry)\n",
      "0 0 0 (0, 0)\n",
      "0 0 1 (1, 0)\n",
      "0 1 0 (1, 0)\n",
      "0 1 1 (0, 1)\n",
      "1 0 0 (1, 0)\n",
      "1 0 1 (0, 1)\n",
      "1 1 0 (0, 1)\n",
      "1 1 1 (1, 1)\n"
     ]
    }
   ],
   "source": [
    "def half_adder(p: int, q: int):\n",
    "    summ = p ^ q\n",
    "    carry = p & q\n",
    "    return summ, carry\n",
    "\n",
    "def full_adder(p: int, q: int, c_in: int):\n",
    "    s1, c1 = half_adder(p, q)\n",
    "    s2, c2 = half_adder(s1, c_in)\n",
    "    c_out = c1 | c2\n",
    "    return s2, c_out\n",
    "\n",
    "# truth tables\n",
    "print(\"Half-adder (p,q)->(sum,carry)\")\n",
    "for p in (0,1):\n",
    "    for q in (0,1):\n",
    "        print(p, q, half_adder(p,q))\n",
    "\n",
    "print(\"\\nFull-adder (p,q,c_in)->(sum,carry)\")\n",
    "for p in (0,1):\n",
    "    for q in (0,1):\n",
    "        for c in (0,1):\n",
    "            print(p, q, c, full_adder(p,q,c))\n"
   ]
  }
 ],
 "metadata": {
  "kernelspec": {
   "display_name": "Python [conda env:base] *",
   "language": "python",
   "name": "conda-base-py"
  },
  "language_info": {
   "codemirror_mode": {
    "name": "ipython",
    "version": 3
   },
   "file_extension": ".py",
   "mimetype": "text/x-python",
   "name": "python",
   "nbconvert_exporter": "python",
   "pygments_lexer": "ipython3",
   "version": "3.13.5"
  }
 },
 "nbformat": 4,
 "nbformat_minor": 5
}
