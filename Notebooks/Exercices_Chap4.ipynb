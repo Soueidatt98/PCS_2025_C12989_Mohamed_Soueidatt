{
 "cells": [
  {
   "cell_type": "markdown",
   "id": "5c8d576a-430e-41d3-9c7b-1f76a6713cfd",
   "metadata": {},
   "source": [
    "# Mohamed Soueidatt - C12989\n",
    "\n",
    "#### Solutions des exercices du chapitre 4"
   ]
  },
  {
   "cell_type": "markdown",
   "id": "64f1145f-077f-4146-afdb-4805ec2901aa",
   "metadata": {},
   "source": [
    "### Ex. 1: Construction d’une matrice\n"
   ]
  },
  {
   "cell_type": "code",
   "execution_count": 1,
   "id": "4d6aafb4-f0da-4caf-bcc4-c56f41b05320",
   "metadata": {},
   "outputs": [
    {
     "data": {
      "text/plain": [
       "(array([7, 8, 9]), array([7, 8, 9]), array([[7, 8, 9]]), array([[7, 8, 9]]))"
      ]
     },
     "execution_count": 1,
     "metadata": {},
     "output_type": "execute_result"
    }
   ],
   "source": [
    "import numpy as np\n",
    "\n",
    "# 1. Créer la matrice avec array\n",
    "M1 = np.array([[1, 2, 3], [4, 5, 6], [7, 8, 9]])\n",
    "\n",
    "# 2. Créer la même matrice avec arange et reshape\n",
    "M2 = np.arange(1, 10).reshape(3, 3)\n",
    "\n",
    "# 3. Résultats\n",
    "M1[2,:], M2[2,:], M1[2:], M2[2:]\n"
   ]
  },
  {
   "cell_type": "markdown",
   "id": "83dd3833-2ad5-462a-8312-e7145bfc23fd",
   "metadata": {},
   "source": [
    "### Ex. 2: Résolution d’un système linéaire\n"
   ]
  },
  {
   "cell_type": "code",
   "execution_count": 2,
   "id": "0f89dad7-036a-4522-894e-5810d0dc2825",
   "metadata": {},
   "outputs": [
    {
     "data": {
      "image/png": "[encoded data removed]",
      "text/plain": [
       "<Figure size 640x480 with 1 Axes>"
      ]
     },
     "metadata": {},
     "output_type": "display_data"
    }
   ],
   "source": [
    "import numpy as np\n",
    "import matplotlib.pyplot as plt\n",
    "\n",
    "# 1. Construire la matrice\n",
    "x = np.array([0, 1, 2, 3, 4])\n",
    "X = np.vander(x, increasing=True)\n",
    "\n",
    "# 2. Résoudre le système linéaire (en utilisant numpy.linalg.solve)\n",
    "b = np.array([1, 2, 3, 4, 5])\n",
    "coefficients = np.linalg.solve(X, b)\n",
    "\n",
    "# 3. Fonction poly\n",
    "def poly(x, coeff):\n",
    "    return np.polyval(coeff[::-1], x)\n",
    "\n",
    "# 4. Tracer le polynôme et afficher les points\n",
    "x_plot = np.linspace(0, 4, 100)\n",
    "y_plot = poly(x_plot, coefficients)\n",
    "\n",
    "plt.plot(x_plot, y_plot, label=\"Polynôme\")\n",
    "plt.scatter(x, b, color='red', label=\"Points\")\n",
    "plt.legend()\n",
    "plt.show()\n"
   ]
  },
  {
   "cell_type": "markdown",
   "id": "c6c99301-26d2-4235-b70d-8d61fdb59267",
   "metadata": {},
   "source": [
    "### Ex. 3: Utilisation de `vander` et `polyval`\n"
   ]
  },
  {
   "cell_type": "code",
   "execution_count": 3,
   "id": "5f80cab2-1c6a-4d45-9e5e-5cce122f4a40",
   "metadata": {},
   "outputs": [
    {
     "data": {
      "text/plain": [
       "array([1., 2., 3., 4., 5.])"
      ]
     },
     "execution_count": 3,
     "metadata": {},
     "output_type": "execute_result"
    }
   ],
   "source": [
    "# 1. Utilisation de `vander`\n",
    "V = np.vander(x, increasing=True)\n",
    "\n",
    "# 2. Utilisation de `polyval`\n",
    "polynomial_values = np.polyval(coefficients[::-1], x)\n",
    "polynomial_values\n"
   ]
  },
  {
   "cell_type": "markdown",
   "id": "dbeded19-c2c7-4794-afbd-d3615f949393",
   "metadata": {},
   "source": [
    "### Ex. 4: Moyenne mobile\n"
   ]
  },
  {
   "cell_type": "code",
   "execution_count": 4,
   "id": "4d2d7ff4-5b0a-4d93-bfd7-dee80a113ebe",
   "metadata": {},
   "outputs": [
    {
     "data": {
      "text/plain": [
       "array([2., 3., 4., 5., 6., 7.])"
      ]
     },
     "execution_count": 4,
     "metadata": {},
     "output_type": "execute_result"
    }
   ],
   "source": [
    "# 1. Moyenne mobile\n",
    "def moving_average(arr, window=3):\n",
    "    return np.convolve(arr, np.ones(window)/window, mode='valid')\n",
    "\n",
    "data = np.array([1, 2, 3, 4, 5, 6, 7, 8])\n",
    "ma = moving_average(data)\n",
    "ma\n"
   ]
  },
  {
   "cell_type": "markdown",
   "id": "7299e1f6-6f73-4808-aea1-3ebafc155417",
   "metadata": {},
   "source": [
    "### Ex. 5: Manipulations de matrices\n"
   ]
  },
  {
   "cell_type": "code",
   "execution_count": 5,
   "id": "64096145-e482-4caf-b83d-84b6dd51e3f9",
   "metadata": {},
   "outputs": [
    {
     "data": {
      "text/plain": [
       "array([[ 2,  3, 10],\n",
       "       [ 5,  6, 11],\n",
       "       [ 8,  9, 12]])"
      ]
     },
     "execution_count": 5,
     "metadata": {},
     "output_type": "execute_result"
    }
   ],
   "source": [
    "# 1. Supprimer la première colonne de M2\n",
    "M3 = M2[:, 1:]\n",
    "\n",
    "# 2. Construire la matrice B\n",
    "B = np.hstack((M3, np.array([[10], [11], [12]])))\n",
    "B\n"
   ]
  },
  {
   "cell_type": "markdown",
   "id": "3fffccd5-8a4b-447e-ba1c-08c7b5c0c88f",
   "metadata": {},
   "source": [
    "### Ex. 6: Méthode des moindres carrés avec `scipy.linalg.lstsq`\n"
   ]
  },
  {
   "cell_type": "code",
   "execution_count": 9,
   "id": "1c5dd993-b77e-4c2f-87c5-b57b893a21f5",
   "metadata": {},
   "outputs": [
    {
     "data": {
      "text/plain": [
       "array([3.37059728e-16, 3.33333333e-01])"
      ]
     },
     "execution_count": 9,
     "metadata": {},
     "output_type": "execute_result"
    }
   ],
   "source": [
    "import scipy.linalg as sl\n",
    "import numpy as np\n",
    "\n",
    "x = np.array([0, 1, 2, 3, 4]) \n",
    "b = np.array([1, 2, 3, 4, 5])\n",
    "\n",
    "\n",
    "M2 = np.arange(1, 10).reshape(3, 3)\n",
    "M3 = M2[:, 1:]  \n",
    "\n",
    "\n",
    "M3 = np.vstack([M3, np.zeros((2, 2))])  \n",
    "solution, _, _, _ = sl.lstsq(M3, b)\n",
    "\n",
    "solution\n"
   ]
  },
  {
   "cell_type": "markdown",
   "id": "e5d55470-51cf-489e-8b36-144f478c175b",
   "metadata": {},
   "source": [
    "### Ex. 7: Matrices de projection\n"
   ]
  },
  {
   "cell_type": "code",
   "execution_count": 7,
   "id": "3bce2735-5642-4f4b-a778-df549b188871",
   "metadata": {},
   "outputs": [
    {
     "data": {
      "text/plain": [
       "(array([1., 1.]), array([0., 0.]))"
      ]
     },
     "execution_count": 7,
     "metadata": {},
     "output_type": "execute_result"
    }
   ],
   "source": [
    "# 1. Matrices de projection\n",
    "v = np.array([1, 1])\n",
    "P1 = np.outer(v, v) / np.dot(v, v)\n",
    "P2 = np.eye(2) - P1\n",
    "\n",
    "# 2. Vérification des vecteurs propres\n",
    "np.dot(P1, v), np.dot(P2, v)\n"
   ]
  },
  {
   "cell_type": "markdown",
   "id": "d341d8ef-de65-4b04-8147-9c5062fb26e0",
   "metadata": {},
   "source": [
    "### Ex. 8: Matrice avec facteur de croissance extrême\n"
   ]
  },
  {
   "cell_type": "code",
   "execution_count": 8,
   "id": "8499ab2e-53a1-4b0e-b0df-757c2bf1d1d2",
   "metadata": {},
   "outputs": [
    {
     "data": {
      "text/plain": [
       "(array([[1., 0., 0., 0., 0., 0., 0., 0., 0., 0.],\n",
       "        [0., 0., 0., 1., 0., 0., 0., 0., 0., 0.],\n",
       "        [0., 1., 0., 0., 0., 0., 0., 0., 0., 0.],\n",
       "        [0., 0., 0., 0., 0., 0., 1., 0., 0., 0.],\n",
       "        [0., 0., 0., 0., 1., 0., 0., 0., 0., 0.],\n",
       "        [0., 0., 0., 0., 0., 0., 0., 1., 0., 0.],\n",
       "        [0., 0., 0., 0., 0., 0., 0., 0., 0., 1.],\n",
       "        [0., 0., 1., 0., 0., 0., 0., 0., 0., 0.],\n",
       "        [0., 0., 0., 0., 0., 0., 0., 0., 1., 0.],\n",
       "        [0., 0., 0., 0., 0., 1., 0., 0., 0., 0.]]),\n",
       " array([[ 1.        ,  0.        ,  0.        ,  0.        ,  0.        ,\n",
       "          0.        ,  0.        ,  0.        ,  0.        ,  0.        ],\n",
       "        [ 0.33333333,  1.        ,  0.        ,  0.        ,  0.        ,\n",
       "          0.        ,  0.        ,  0.        ,  0.        ,  0.        ],\n",
       "        [ 0.125     ,  0.58333333,  1.        ,  0.        ,  0.        ,\n",
       "          0.        ,  0.        ,  0.        ,  0.        ,  0.        ],\n",
       "        [ 0.5       ,  1.        , -0.85714286,  1.        ,  0.        ,\n",
       "          0.        ,  0.        ,  0.        ,  0.        ,  0.        ],\n",
       "        [ 0.2       ,  0.8       ,  0.78367347, -0.28571429,  1.        ,\n",
       "          0.        ,  0.        ,  0.        ,  0.        ,  0.        ],\n",
       "        [ 0.1       ,  0.49090909,  0.98181818,  0.14685315, -0.88111888,\n",
       "          1.        ,  0.        ,  0.        ,  0.        ,  0.        ],\n",
       "        [ 0.25      ,  0.9       ,  0.51428571, -0.28571429,  0.75      ,\n",
       "          0.28373016,  1.        ,  0.        ,  0.        ,  0.        ],\n",
       "        [ 0.16666667,  0.71428571,  0.91836735, -0.1984127 ,  0.83333333,\n",
       "         -0.25793651, -0.50505051,  1.        ,  0.        ,  0.        ],\n",
       "        [ 0.11111111,  0.53333333,  0.9974026 ,  0.08080808, -0.45687646,\n",
       "          0.44444444,  0.17404817, -0.70000003,  1.        ,  0.        ],\n",
       "        [ 0.14285714,  0.64285714,  0.97959184, -0.0952381 ,  0.45454545,\n",
       "         -0.25793651, -0.34965035,  0.96428569, -0.52040987,  1.        ]]),\n",
       " array([[ 1.00000000e+00,  5.00000000e-01,  3.33333333e-01,\n",
       "          2.50000000e-01,  2.00000000e-01,  1.66666667e-01,\n",
       "          1.42857143e-01,  1.25000000e-01,  1.11111111e-01,\n",
       "          1.00000000e-01],\n",
       "        [ 0.00000000e+00,  8.33333333e-02,  8.88888889e-02,\n",
       "          8.33333333e-02,  7.61904762e-02,  6.94444444e-02,\n",
       "          6.34920635e-02,  5.83333333e-02,  5.38720539e-02,\n",
       "          5.00000000e-02],\n",
       "        [ 0.00000000e+00,  0.00000000e+00,  6.48148148e-03,\n",
       "          1.10479798e-02,  1.38888889e-02,  1.55804843e-02,\n",
       "          1.65343915e-02,  1.70138889e-02,  1.71857464e-02,\n",
       "          1.71568627e-02],\n",
       "        [ 0.00000000e+00,  0.00000000e+00,  0.00000000e+00,\n",
       "          1.13636364e-03,  2.38095238e-03,  3.43406593e-03,\n",
       "          4.25170068e-03,  4.86111111e-03,  5.30303030e-03,\n",
       "          5.61497326e-03],\n",
       "        [ 0.00000000e+00,  0.00000000e+00,  0.00000000e+00,\n",
       "          0.00000000e+00, -4.53514739e-05, -1.17739403e-04,\n",
       "         -1.98780811e-04, -2.77777778e-04, -3.49650350e-04,\n",
       "         -4.12528648e-04],\n",
       "        [ 0.00000000e+00,  0.00000000e+00,  0.00000000e+00,\n",
       "          0.00000000e+00,  0.00000000e+00,  3.84231153e-06,\n",
       "          1.21631615e-05,  2.39956122e-05,  3.80350031e-05,\n",
       "          5.31413422e-05],\n",
       "        [ 0.00000000e+00,  0.00000000e+00,  0.00000000e+00,\n",
       "          0.00000000e+00,  0.00000000e+00,  0.00000000e+00,\n",
       "         -1.38042230e-07, -4.95147554e-07, -1.07916775e-06,\n",
       "         -1.85572941e-06],\n",
       "        [ 0.00000000e+00,  0.00000000e+00,  0.00000000e+00,\n",
       "          0.00000000e+00,  0.00000000e+00,  0.00000000e+00,\n",
       "          0.00000000e+00,  3.84730031e-09,  1.55724060e-08,\n",
       "          3.74894827e-08],\n",
       "        [ 0.00000000e+00,  0.00000000e+00,  0.00000000e+00,\n",
       "          0.00000000e+00,  0.00000000e+00,  0.00000000e+00,\n",
       "          0.00000000e+00,  0.00000000e+00, -1.47973032e-10,\n",
       "         -6.72887863e-10],\n",
       "        [ 0.00000000e+00,  0.00000000e+00,  0.00000000e+00,\n",
       "          0.00000000e+00,  0.00000000e+00,  0.00000000e+00,\n",
       "          0.00000000e+00,  0.00000000e+00,  0.00000000e+00,\n",
       "         -2.57515375e-12]]))"
      ]
     },
     "execution_count": 8,
     "metadata": {},
     "output_type": "execute_result"
    }
   ],
   "source": [
    "# 1. Construire la matrice\n",
    "n = 10  # Exemple avec n = 10\n",
    "A = np.fromfunction(lambda i, j: 1 / (i + j + 1), (n, n))\n",
    "\n",
    "# 2. Décomposition LU\n",
    "P, L, U = sl.lu(A)\n",
    "P, L, U\n"
   ]
  },
  {
   "cell_type": "code",
   "execution_count": null,
   "id": "da04ddfe-bae1-4f5c-a539-6a9eeb862b43",
   "metadata": {},
   "outputs": [],
   "source": []
  }
 ],
 "metadata": {
  "kernelspec": {
   "display_name": "Python [conda env:base] *",
   "language": "python",
   "name": "conda-base-py"
  },
  "language_info": {
   "codemirror_mode": {
    "name": "ipython",
    "version": 3
   },
   "file_extension": ".py",
   "mimetype": "text/x-python",
   "name": "python",
   "nbconvert_exporter": "python",
   "pygments_lexer": "ipython3",
   "version": "3.13.5"
  }
 },
 "nbformat": 4,
 "nbformat_minor": 5
}
