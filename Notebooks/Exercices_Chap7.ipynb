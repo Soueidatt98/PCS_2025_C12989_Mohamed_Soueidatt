{
 "cells": [
  {
   "cell_type": "markdown",
   "id": "08a8e204-dc97-47e0-a7f7-2183f91237a5",
   "metadata": {},
   "source": [
    "# Mohamed Soueidatt - C12989\n",
    "\n",
    "#### Solutions des exercices du chapitre 7"
   ]
  },
  {
   "cell_type": "markdown",
   "id": "9979fff7-1093-4317-9495-9e88692c0f51",
   "metadata": {},
   "source": [
    "### Ex. 1 – polar_to_comp"
   ]
  },
  {
   "cell_type": "code",
   "execution_count": 1,
   "id": "4d9d63fc-eff1-415c-afde-4cc462beb681",
   "metadata": {},
   "outputs": [
    {
     "data": {
      "text/plain": [
       "np.complex128(1.4142135623730951+1.4142135623730951j)"
      ]
     },
     "execution_count": 1,
     "metadata": {},
     "output_type": "execute_result"
    }
   ],
   "source": [
    "import numpy as np\n",
    "def polar_to_comp(r,theta): return r*np.exp(1j*theta)\n",
    "polar_to_comp(2,np.pi/4)\n"
   ]
  },
  {
   "cell_type": "markdown",
   "id": "00916fea-c337-41e4-aa26-ac4e9a54e860",
   "metadata": {},
   "source": [
    "### Ex. 2 – partial test\n"
   ]
  },
  {
   "cell_type": "code",
   "execution_count": 2,
   "id": "8e781faf-f442-4ad4-a592-6a6c2ece923f",
   "metadata": {},
   "outputs": [
    {
     "data": {
      "text/plain": [
       "24"
      ]
     },
     "execution_count": 2,
     "metadata": {},
     "output_type": "execute_result"
    }
   ],
   "source": [
    "def partial(func,*args,**keywords):\n",
    "    def newfunc(*fargs,**fkeywords):\n",
    "        kw=keywords.copy(); kw.update(fkeywords)\n",
    "        return func(*(args+fargs),**kw)\n",
    "    newfunc.func, newfunc.args, newfunc.keywords=func,args,keywords\n",
    "    return newfunc\n",
    "def mul(a,b,c=1): return a*b*c\n",
    "mul2=partial(mul,2)\n",
    "mul2(3,c=4)\n"
   ]
  },
  {
   "cell_type": "markdown",
   "id": "afc61616-258e-4c4f-aa8b-1a3155810b23",
   "metadata": {},
   "source": [
    "### Ex. 3 – clean how_sparse\n"
   ]
  },
  {
   "cell_type": "code",
   "execution_count": 3,
   "id": "83f3b073-6fef-4bc7-adce-6c1387d44520",
   "metadata": {},
   "outputs": [
    {
     "data": {
      "text/plain": [
       "3"
      ]
     },
     "execution_count": 3,
     "metadata": {},
     "output_type": "execute_result"
    }
   ],
   "source": [
    "import numpy as np\n",
    "def clean_small(f):\n",
    "    def g(A):\n",
    "        A=np.array(A,copy=True); A[np.abs(A)<1e-16]=0\n",
    "        return f(A)\n",
    "    return g\n",
    "@clean_small\n",
    "def how_sparse(A): return A.size-np.count_nonzero(A==0)\n",
    "how_sparse(np.eye(3))\n"
   ]
  },
  {
   "cell_type": "markdown",
   "id": "2d99d221-631d-4d91-86d7-a85855ad6d50",
   "metadata": {},
   "source": [
    "### Ex. 4 – bisection method\n"
   ]
  },
  {
   "cell_type": "code",
   "execution_count": 4,
   "id": "84d7bd35-937c-487f-9533-56f13769efe3",
   "metadata": {},
   "outputs": [
    {
     "data": {
      "text/plain": [
       "((-7.450580596923828e-09, 0.0, -3.725290298461914e-09),\n",
       " (0.6180339828133583, 0.6180339902639389, 0.6180339865386486))"
      ]
     },
     "execution_count": 4,
     "metadata": {},
     "output_type": "execute_result"
    }
   ],
   "source": [
    "import numpy as np, math\n",
    "def bisec(f,a,b,tol=1e-8):\n",
    "    while b-a>tol:\n",
    "        m=(a+b)/2\n",
    "        a,b=(a,m) if f(a)*f(m)<=0 else (m,b)\n",
    "    return a,b,(a+b)/2\n",
    "interval1=bisec(np.arctan,-1,1)\n",
    "p=lambda x:x**3-2*x+1\n",
    "interval2=bisec(p,0,1)\n",
    "interval1,interval2\n"
   ]
  },
  {
   "cell_type": "markdown",
   "id": "f6f4d9a0-a0cb-4a9d-9aa1-fd3499640178",
   "metadata": {},
   "source": [
    "### Ex. 5 – gcd & lcm\n"
   ]
  },
  {
   "cell_type": "code",
   "execution_count": 5,
   "id": "1c250876-3225-4934-8875-39f6a6df225d",
   "metadata": {},
   "outputs": [
    {
     "data": {
      "text/plain": [
       "(6, 144)"
      ]
     },
     "execution_count": 5,
     "metadata": {},
     "output_type": "execute_result"
    }
   ],
   "source": [
    "def gcd(a,b):\n",
    "    while b: a,b=b,a%b\n",
    "    return abs(a)\n",
    "def lcm(a,b): return abs(a*b)//gcd(a,b)\n",
    "gcd(48,18),lcm(48,18)\n"
   ]
  },
  {
   "cell_type": "markdown",
   "id": "4ee93cdb-8a6b-45b9-a587-b941928d78a2",
   "metadata": {},
   "source": [
    "### Ex. 6 – iterative Chebyshev\n"
   ]
  },
  {
   "cell_type": "code",
   "execution_count": 6,
   "id": "6253099b-5852-437d-90f3-58696b53fc63",
   "metadata": {},
   "outputs": [
    {
     "data": {
      "text/plain": [
       "(0.22953160014003515,\n",
       " [1.0, 0.52, -0.45919999999999994, -0.997568, -0.57827072])"
      ]
     },
     "execution_count": 6,
     "metadata": {},
     "output_type": "execute_result"
    }
   ],
   "source": [
    "import numpy as np, timeit\n",
    "def cheb_iter(n,x):\n",
    "    if n==0: return 1.0\n",
    "    if n==1: return x\n",
    "    T0,T1=1.0,x\n",
    "    for _ in range(2,n+1): T0,T1=T1,2*x*T1-T0\n",
    "    return T1\n",
    "x=0.52\n",
    "vals=[cheb_iter(k,x) for k in range(6)]\n",
    "timeit.timeit(lambda:cheb_iter(1000,x),number=1000),vals[:5]\n"
   ]
  },
  {
   "cell_type": "code",
   "execution_count": null,
   "id": "8961d2a6-3d7e-4477-9311-44dd39d493f8",
   "metadata": {},
   "outputs": [],
   "source": []
  }
 ],
 "metadata": {
  "kernelspec": {
   "display_name": "Python [conda env:base] *",
   "language": "python",
   "name": "conda-base-py"
  },
  "language_info": {
   "codemirror_mode": {
    "name": "ipython",
    "version": 3
   },
   "file_extension": ".py",
   "mimetype": "text/x-python",
   "name": "python",
   "nbconvert_exporter": "python",
   "pygments_lexer": "ipython3",
   "version": "3.13.5"
  }
 },
 "nbformat": 4,
 "nbformat_minor": 5
}
